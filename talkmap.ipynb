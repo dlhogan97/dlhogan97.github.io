{
 "cells": [
  {
   "cell_type": "markdown",
   "metadata": {},
   "source": [
    "# Leaflet cluster map of talk locations\n",
    "\n",
    "Run this from the _talks/ directory, which contains .md files of all your talks. This scrapes the location YAML field from each .md file, geolocates it with geopy/Nominatim, and uses the getorg library to output data, HTML, and Javascript for a standalone cluster map."
   ]
  },
  {
   "cell_type": "code",
   "execution_count": 1,
   "metadata": {
    "collapsed": false
   },
   "outputs": [
    {
     "name": "stdout",
     "output_type": "stream",
     "text": [
      "Collecting getorg\n",
      "  Downloading getorg-0.3.1-py2.py3-none-any.whl (39 kB)\n",
      "Collecting pygithub\n",
      "  Downloading PyGithub-2.1.1-py3-none-any.whl (302 kB)\n",
      "     -------------------------------------- 302.9/302.9 KB 9.1 MB/s eta 0:00:00\n",
      "Collecting geopy\n",
      "  Downloading geopy-2.4.0-py3-none-any.whl (125 kB)\n",
      "     -------------------------------------- 125.4/125.4 KB 7.2 MB/s eta 0:00:00\n",
      "Requirement already satisfied: retrying in c:\\users\\dlhogan\\anaconda3\\envs\\act_env\\lib\\site-packages (from getorg) (1.3.3)\n",
      "Collecting geographiclib<3,>=1.52\n",
      "  Downloading geographiclib-2.0-py3-none-any.whl (40 kB)\n",
      "     ---------------------------------------- 40.3/40.3 KB ? eta 0:00:00\n",
      "Requirement already satisfied: requests>=2.14.0 in c:\\users\\dlhogan\\anaconda3\\envs\\act_env\\lib\\site-packages (from pygithub->getorg) (2.27.1)\n",
      "Requirement already satisfied: urllib3>=1.26.0 in c:\\users\\dlhogan\\anaconda3\\envs\\act_env\\lib\\site-packages (from pygithub->getorg) (1.26.8)\n",
      "Requirement already satisfied: python-dateutil in c:\\users\\dlhogan\\anaconda3\\envs\\act_env\\lib\\site-packages (from pygithub->getorg) (2.8.2)\n",
      "Collecting Deprecated\n",
      "  Downloading Deprecated-1.2.14-py2.py3-none-any.whl (9.6 kB)\n",
      "Collecting pynacl>=1.4.0\n",
      "  Downloading PyNaCl-1.5.0-cp36-abi3-win_amd64.whl (212 kB)\n",
      "     ------------------------------------- 212.1/212.1 KB 13.5 MB/s eta 0:00:00\n",
      "Collecting pyjwt[crypto]>=2.4.0\n",
      "  Downloading PyJWT-2.8.0-py3-none-any.whl (22 kB)\n",
      "Requirement already satisfied: typing-extensions>=4.0.0 in c:\\users\\dlhogan\\anaconda3\\envs\\act_env\\lib\\site-packages (from pygithub->getorg) (4.1.1)\n",
      "Requirement already satisfied: six>=1.7.0 in c:\\users\\dlhogan\\anaconda3\\envs\\act_env\\lib\\site-packages (from retrying->getorg) (1.16.0)\n",
      "Requirement already satisfied: cryptography>=3.4.0 in c:\\users\\dlhogan\\anaconda3\\envs\\act_env\\lib\\site-packages (from pyjwt[crypto]>=2.4.0->pygithub->getorg) (36.0.1)\n",
      "Requirement already satisfied: cffi>=1.4.1 in c:\\users\\dlhogan\\anaconda3\\envs\\act_env\\lib\\site-packages (from pynacl>=1.4.0->pygithub->getorg) (1.15.0)\n",
      "Requirement already satisfied: charset-normalizer~=2.0.0 in c:\\users\\dlhogan\\anaconda3\\envs\\act_env\\lib\\site-packages (from requests>=2.14.0->pygithub->getorg) (2.0.12)\n",
      "Requirement already satisfied: idna<4,>=2.5 in c:\\users\\dlhogan\\anaconda3\\envs\\act_env\\lib\\site-packages (from requests>=2.14.0->pygithub->getorg) (3.3)\n",
      "Requirement already satisfied: certifi>=2017.4.17 in c:\\users\\dlhogan\\anaconda3\\envs\\act_env\\lib\\site-packages (from requests>=2.14.0->pygithub->getorg) (2022.9.24)\n",
      "Collecting wrapt<2,>=1.10\n",
      "  Downloading wrapt-1.15.0-cp37-cp37m-win_amd64.whl (35 kB)\n",
      "Requirement already satisfied: pycparser in c:\\users\\dlhogan\\anaconda3\\envs\\act_env\\lib\\site-packages (from cffi>=1.4.1->pynacl>=1.4.0->pygithub->getorg) (2.21)\n",
      "Installing collected packages: wrapt, pyjwt, geographiclib, pynacl, geopy, Deprecated, pygithub, getorg\n",
      "Successfully installed Deprecated-1.2.14 geographiclib-2.0 geopy-2.4.0 getorg-0.3.1 pygithub-2.1.1 pyjwt-2.8.0 pynacl-1.5.0 wrapt-1.15.0\n",
      "Iywidgets and ipyleaflet support disabled. You must be in a Jupyter notebook to use this feature.\n",
      "Error raised:\n",
      "No module named 'ipyleaflet'\n",
      "Check that you have enabled ipyleaflet in Jupyter with:\n",
      "    jupyter nbextension enable --py ipyleaflet\n"
     ]
    }
   ],
   "source": [
    "!pip install getorg --upgrade\n",
    "import glob\n",
    "import getorg\n",
    "from geopy import Nominatim"
   ]
  },
  {
   "cell_type": "code",
   "execution_count": 24,
   "metadata": {
    "collapsed": false
   },
   "outputs": [],
   "source": [
    "g = glob.glob(r\".\\_talks\\*.md\")"
   ]
  },
  {
   "cell_type": "code",
   "execution_count": 25,
   "metadata": {
    "collapsed": true
   },
   "outputs": [],
   "source": [
    "geocoder = Nominatim(user_agent=\"my-website\")\n",
    "location_dict = {}\n",
    "location = \"\"\n",
    "permalink = \"\"\n",
    "title = \"\""
   ]
  },
  {
   "cell_type": "code",
   "execution_count": 26,
   "metadata": {
    "collapsed": false
   },
   "outputs": [
    {
     "name": "stdout",
     "output_type": "stream",
     "text": [
      "Park City, UT, USA \n",
      " Park City, Summit County, Utah, United States\n",
      "Seattle, WA, USA \n",
      " Seattle, King County, Washington, United States\n",
      "Seattle, WA, USA \n",
      " Seattle, King County, Washington, United States\n"
     ]
    }
   ],
   "source": [
    "\n",
    "for file in g:\n",
    "    with open(file, 'r') as f:\n",
    "        lines = f.read()\n",
    "        if lines.find('location: \"') > 1:\n",
    "            loc_start = lines.find('location: \"') + 11\n",
    "            lines_trim = lines[loc_start:]\n",
    "            loc_end = lines_trim.find('\"')\n",
    "            location = lines_trim[:loc_end]\n",
    "                            \n",
    "           \n",
    "        location_dict[location] = geocoder.geocode(location)\n",
    "        print(location, \"\\n\", location_dict[location])\n"
   ]
  },
  {
   "cell_type": "code",
   "execution_count": 27,
   "metadata": {
    "collapsed": false
   },
   "outputs": [
    {
     "data": {
      "text/plain": [
       "'Written map to ../talkmap/'"
      ]
     },
     "execution_count": 27,
     "metadata": {},
     "output_type": "execute_result"
    }
   ],
   "source": [
    "m = getorg.orgmap.create_map_obj()\n",
    "getorg.orgmap.output_html_cluster_map(location_dict, folder_name=\"../talkmap\", hashed_usernames=False)"
   ]
  },
  {
   "cell_type": "code",
   "execution_count": null,
   "metadata": {
    "collapsed": true
   },
   "outputs": [],
   "source": []
  }
 ],
 "metadata": {
  "anaconda-cloud": {},
  "kernelspec": {
   "display_name": "act_env",
   "language": "python",
   "name": "python3"
  },
  "language_info": {
   "codemirror_mode": {
    "name": "ipython",
    "version": 3
   },
   "file_extension": ".py",
   "mimetype": "text/x-python",
   "name": "python",
   "nbconvert_exporter": "python",
   "pygments_lexer": "ipython3",
   "version": "3.7.12"
  }
 },
 "nbformat": 4,
 "nbformat_minor": 0
}
